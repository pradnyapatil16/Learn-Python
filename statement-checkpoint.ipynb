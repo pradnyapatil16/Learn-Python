{
 "cells": [
  {
   "cell_type": "code",
   "execution_count": 1,
   "metadata": {},
   "outputs": [
    {
     "name": "stdout",
     "output_type": "stream",
     "text": [
      "enter a number24\n",
      "number is positive\n"
     ]
    }
   ],
   "source": [
    "num = int(input(\"enter a number\"))\n",
    "\n",
    "if num>0:\n",
    "    \n",
    "    print(\"number is positive\")"
   ]
  },
  {
   "cell_type": "code",
   "execution_count": 2,
   "metadata": {},
   "outputs": [
    {
     "name": "stdout",
     "output_type": "stream",
     "text": [
      "enter a number-12\n",
      "number is negative\n"
     ]
    }
   ],
   "source": [
    "num = int(input(\"enter a number\"))\n",
    "if num<0:\n",
    "    print(\"number is negative\")"
   ]
  },
  {
   "cell_type": "code",
   "execution_count": 3,
   "metadata": {},
   "outputs": [
    {
     "name": "stdout",
     "output_type": "stream",
     "text": [
      "it is true.This will be printed\n"
     ]
    }
   ],
   "source": [
    "if \"abc\"==\"abc\":\n",
    "    print(\"it is true.This will be printed\")"
   ]
  },
  {
   "cell_type": "code",
   "execution_count": 4,
   "metadata": {},
   "outputs": [],
   "source": [
    "if \"welcome\"==\"WElcome\":\n",
    "    \n",
    "    print(\"It is correct\")"
   ]
  },
  {
   "cell_type": "code",
   "execution_count": 5,
   "metadata": {},
   "outputs": [
    {
     "name": "stdout",
     "output_type": "stream",
     "text": [
      "always true\n"
     ]
    }
   ],
   "source": [
    "if \"welcome\"!=\"Welcome\":\n",
    "    print(\"always true\")"
   ]
  },
  {
   "cell_type": "code",
   "execution_count": 6,
   "metadata": {},
   "outputs": [],
   "source": [
    "if 10>15:\n",
    "    print(\"this is true\")"
   ]
  },
  {
   "cell_type": "code",
   "execution_count": 7,
   "metadata": {},
   "outputs": [
    {
     "name": "stdout",
     "output_type": "stream",
     "text": [
      "this is right\n"
     ]
    }
   ],
   "source": [
    "if 10<15:\n",
    "    print(\"this is right\")"
   ]
  },
  {
   "cell_type": "code",
   "execution_count": 8,
   "metadata": {},
   "outputs": [
    {
     "name": "stdout",
     "output_type": "stream",
     "text": [
      "enter a number34\n",
      "number is positive\n"
     ]
    }
   ],
   "source": [
    "num = int(input(\"enter a number\"))\n",
    "\n",
    "if num>0:   \n",
    "    print(\"number is positive\")\n",
    "elif num<0:\n",
    "    print(\"number is negative\")"
   ]
  },
  {
   "cell_type": "code",
   "execution_count": 9,
   "metadata": {},
   "outputs": [
    {
     "name": "stdout",
     "output_type": "stream",
     "text": [
      "This is valid string\n"
     ]
    }
   ],
   "source": [
    "if \"xyz\"==\"xyz\":\n",
    "    print(\"This is valid string\")\n",
    "elif \"xyz\"==\"xyz\":\n",
    "    print(\"This is not valid string\")"
   ]
  },
  {
   "cell_type": "code",
   "execution_count": 10,
   "metadata": {},
   "outputs": [
    {
     "name": "stdout",
     "output_type": "stream",
     "text": [
      "Enter the year:2015\n",
      "Not Leap year\n"
     ]
    }
   ],
   "source": [
    "year=int(input(\"Enter the year:\"))\n",
    "if(year%4==0):\n",
    "     print(\"Leap year\")  \n",
    "elif(year%4!=0):\n",
    "    print(\"Not Leap year\")"
   ]
  },
  {
   "cell_type": "code",
   "execution_count": 1,
   "metadata": {},
   "outputs": [
    {
     "name": "stdout",
     "output_type": "stream",
     "text": [
      "Enter the character:k\n",
      "consonent\n"
     ]
    }
   ],
   "source": [
    "ch=input(\"Enter the character:\")\n",
    "if(ch=='a'or ch=='e'or ch=='i'or ch=='o'or ch=='u' or ch=='A'or ch=='E'or ch=='I'or ch=='O' or ch=='U'):\n",
    "    print(\"vowel\")\n",
    "else:\n",
    "    print(\"consonent\")\n",
    "\n",
    "    \n",
    "    "
   ]
  },
  {
   "cell_type": "code",
   "execution_count": 2,
   "metadata": {},
   "outputs": [
    {
     "name": "stdout",
     "output_type": "stream",
     "text": [
      "enter the age:22\n",
      "Eligible for voting\n"
     ]
    }
   ],
   "source": [
    "age=int(input(\"enter the age:\"))\n",
    "if age>18:\n",
    "    print(\"Eligible for voting\")\n",
    "elif age<18:\n",
    "    print(\"Not eligible for voting\")\n"
   ]
  },
  {
   "cell_type": "code",
   "execution_count": 20,
   "metadata": {},
   "outputs": [
    {
     "name": "stdout",
     "output_type": "stream",
     "text": [
      "enter first number:11\n",
      "enter second number:34\n",
      "largest number is 34.0\n"
     ]
    }
   ],
   "source": [
    "a=float(input(\"enter first number:\"))\n",
    "b=float(input(\"enter second number:\"))\n",
    "if(a<b):\n",
    "    print(\"largest number is\",b)\n",
    "elif(a>b):\n",
    "    print(\"largest number is\",a)\n",
    "else:\n",
    "    print(\"both a and b are equal\")\n"
   ]
  },
  {
   "cell_type": "code",
   "execution_count": 3,
   "metadata": {},
   "outputs": [
    {
     "name": "stdout",
     "output_type": "stream",
     "text": [
      "enter a number9.4\n",
      "number is positive\n"
     ]
    }
   ],
   "source": [
    "num = float(input(\"enter a number\"))\n",
    "\n",
    "if num>0:   \n",
    "    print(\"number is positive\")\n",
    "elif num<0:\n",
    "    print(\"number is negative\")\n",
    "else:\n",
    "    print(\"zero\")"
   ]
  },
  {
   "cell_type": "code",
   "execution_count": 6,
   "metadata": {},
   "outputs": [
    {
     "name": "stdout",
     "output_type": "stream",
     "text": [
      "variable type is string\n"
     ]
    }
   ],
   "source": [
    "var=\"luck\"\n",
    "if(type(var)==int):\n",
    "    print(\"variable type is integer\")\n",
    "elif(type(var)==float):\n",
    "    print(\"variable type is float\")\n",
    "elif(type(var)==str):\n",
    "    print(\"variable type is string\")\n",
    "else:\n",
    "    print(\"Unknown Type\")"
   ]
  },
  {
   "cell_type": "code",
   "execution_count": 2,
   "metadata": {},
   "outputs": [
    {
     "name": "stdout",
     "output_type": "stream",
     "text": [
      "enter the number:54\n",
      "even number\n"
     ]
    }
   ],
   "source": [
    "num=int(input(\"enter the number:\"))\n",
    "if(num%2==0):\n",
    "    print(\"even number\")\n",
    "else:\n",
    "    print(\"odd number\")"
   ]
  },
  {
   "cell_type": "code",
   "execution_count": null,
   "metadata": {},
   "outputs": [],
   "source": []
  }
 ],
 "metadata": {
  "kernelspec": {
   "display_name": "Python 3",
   "language": "python",
   "name": "python3"
  },
  "language_info": {
   "codemirror_mode": {
    "name": "ipython",
    "version": 3
   },
   "file_extension": ".py",
   "mimetype": "text/x-python",
   "name": "python",
   "nbconvert_exporter": "python",
   "pygments_lexer": "ipython3",
   "version": "3.8.3"
  }
 },
 "nbformat": 4,
 "nbformat_minor": 4
}
