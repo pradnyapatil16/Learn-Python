{
 "cells": [
  {
   "cell_type": "code",
   "execution_count": 19,
   "metadata": {},
   "outputs": [
    {
     "name": "stdout",
     "output_type": "stream",
     "text": [
      "enter no.of rows:5\n",
      "*  *  *  *  *   \n",
      "*  *  *  *   \n",
      "*  *  *   \n",
      "*  *   \n",
      "*   \n",
      " \n"
     ]
    }
   ],
   "source": [
    "row=int(input(\"enter no.of rows:\"))\n",
    "for i in range(0,row+1):\n",
    "    for j in range(i+1,row+1):\n",
    "        print(\"* \",end=' ')\n",
    "    print(' ')"
   ]
  },
  {
   "cell_type": "code",
   "execution_count": 24,
   "metadata": {},
   "outputs": [
    {
     "name": "stdout",
     "output_type": "stream",
     "text": [
      "enter no.of rows:6\n",
      "*   \n",
      "*  *   \n",
      "*  *  *   \n",
      "*  *  *  *   \n",
      "*  *  *  *  *   \n",
      "*  *  *  *  *  *   \n"
     ]
    }
   ],
   "source": [
    "row=int(input(\"enter no.of rows:\"))\n",
    "for i in range(0,row):\n",
    "    for j in range(0,i+1):\n",
    "        print(\"* \",end=' ')\n",
    "    print(' ')"
   ]
  },
  {
   "cell_type": "code",
   "execution_count": 6,
   "metadata": {},
   "outputs": [
    {
     "name": "stdout",
     "output_type": "stream",
     "text": [
      "enter no.of rows:6\n",
      "             \n",
      "          *   \n",
      "        *  *   \n",
      "      *  *  *   \n",
      "    *  *  *  *   \n",
      "  *  *  *  *  *   \n"
     ]
    }
   ],
   "source": [
    "row=int(input(\"enter no.of rows:\"))\n",
    "for i in range(0,row):\n",
    "    for j in range(i,row):\n",
    "        print(' ',end=' ')\n",
    "    for j in range(0,i):\n",
    "        print('* ',end=' ')\n",
    "    print(' ')"
   ]
  },
  {
   "cell_type": "code",
   "execution_count": 6,
   "metadata": {},
   "outputs": [
    {
     "name": "stdout",
     "output_type": "stream",
     "text": [
      "enter no.of rows:5\n",
      "           \n",
      "        *   \n",
      "      *  *   \n",
      "    *  *  *   \n",
      "  *  *  *  *   \n",
      "*  *  *  *  *   \n",
      "  *  *  *  *   \n",
      "    *  *  *   \n",
      "      *  *   \n",
      "        *   \n"
     ]
    }
   ],
   "source": [
    "row=int(input(\"enter no.of rows:\"))\n",
    "for i in range(0,row):\n",
    "    for j in range(i,row):\n",
    "        print(' ',end=' ')\n",
    "    for j in range(0,i):\n",
    "        print('* ',end=' ')    \n",
    "    print(' ')\n",
    "\n",
    "for i in range(0,row):\n",
    "    for j in range(0,i):\n",
    "        print(' ',end=' ')\n",
    "    for j in range(i,row):\n",
    "        print('* ',end=' ')\n",
    "    print(' ')"
   ]
  },
  {
   "cell_type": "code",
   "execution_count": 33,
   "metadata": {},
   "outputs": [
    {
     "name": "stdout",
     "output_type": "stream",
     "text": [
      "enter no.of rows:3\n",
      "*   *\n",
      "*   *\n",
      "*****\n",
      "*   *\n",
      "*   *\n",
      "*****\n",
      "*   *\n",
      "*   *\n",
      "*****\n",
      "*   *\n",
      "*   *\n"
     ]
    }
   ],
   "source": [
    "n=int(input(\"enter no.of rows:\"))\n",
    "for i in range(n+1):\n",
    "    print('*   *')\n",
    "    print('*   *')\n",
    "    \n",
    "    if i<n:\n",
    "        print('*****')"
   ]
  },
  {
   "cell_type": "code",
   "execution_count": 5,
   "metadata": {},
   "outputs": [
    {
     "name": "stdout",
     "output_type": "stream",
     "text": [
      "enter no.of rows:5\n",
      "1 2 3 4 5 \n",
      "1 2 3 4 5 \n",
      "1 2 3 4 5 \n",
      "1 2 3 4 5 \n"
     ]
    }
   ],
   "source": [
    "n=int(input(\"enter no.of rows:\"))\n",
    "for i in range(1,n):\n",
    "    for j in range(1,n+1):\n",
    "        print(j, end=' ')\n",
    "    print('')"
   ]
  },
  {
   "cell_type": "code",
   "execution_count": 1,
   "metadata": {},
   "outputs": [
    {
     "name": "stdout",
     "output_type": "stream",
     "text": [
      " \n",
      "1  \n",
      "2 2  \n",
      "3 3 3  \n",
      "4 4 4 4  \n",
      "5 5 5 5 5  \n"
     ]
    }
   ],
   "source": [
    "rows=6\n",
    "for num in range(rows):\n",
    "    for i in range(num):\n",
    "        print(num,end=\" \")\n",
    "    print(\" \")"
   ]
  },
  {
   "cell_type": "code",
   "execution_count": null,
   "metadata": {},
   "outputs": [],
   "source": []
  }
 ],
 "metadata": {
  "kernelspec": {
   "display_name": "Python 3",
   "language": "python",
   "name": "python3"
  },
  "language_info": {
   "codemirror_mode": {
    "name": "ipython",
    "version": 3
   },
   "file_extension": ".py",
   "mimetype": "text/x-python",
   "name": "python",
   "nbconvert_exporter": "python",
   "pygments_lexer": "ipython3",
   "version": "3.8.3"
  }
 },
 "nbformat": 4,
 "nbformat_minor": 4
}
